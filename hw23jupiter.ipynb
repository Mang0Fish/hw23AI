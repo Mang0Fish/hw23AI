{
 "cells": [
  {
   "cell_type": "code",
   "execution_count": 95,
   "id": "07cc19b7-2bad-4d35-90df-d25082781692",
   "metadata": {},
   "outputs": [
    {
     "name": "stdout",
     "output_type": "stream",
     "text": [
      "[ 1  2  3  4  5  6  7  8  9 10] [0.5  0.75 1.   1.25 1.5  1.75 2.   2.25 2.5  2.75 3.   3.25 3.5  3.75\n",
      " 4.   4.25 4.5  4.75 5.  ]\n"
     ]
    }
   ],
   "source": [
    "import numpy as np\n",
    "#hw23 Oz\n",
    "\n",
    "#1\n",
    "arr1 = np.arange(1,10+1)\n",
    "arr2 = np.arange(0.5,5+0.25,0.25)\n",
    "print(arr1, arr2)"
   ]
  },
  {
   "cell_type": "code",
   "execution_count": 96,
   "id": "311b7047-0ad3-4956-b385-a35643870766",
   "metadata": {},
   "outputs": [
    {
     "name": "stdout",
     "output_type": "stream",
     "text": [
      "[0. 0. 0. 0. 0. 0. 0. 0. 0. 0.] [[0. 0. 0. 0.]\n",
      " [0. 0. 0. 0.]\n",
      " [0. 0. 0. 0.]]\n"
     ]
    }
   ],
   "source": [
    "#2\n",
    "arr3 = np.zeros(10)\n",
    "arr4 = np.zeros((3, 4))\n",
    "print(arr3, arr4)"
   ]
  },
  {
   "cell_type": "code",
   "execution_count": 97,
   "id": "771b44a8-e437-4e15-b30d-25631d69f3db",
   "metadata": {},
   "outputs": [
    {
     "name": "stdout",
     "output_type": "stream",
     "text": [
      "[ 2.   4.5  7.   9.5 12. ] [3. 5. 7. 9.]\n"
     ]
    }
   ],
   "source": [
    "#3\n",
    "arr5 = np.linspace(2,12,5)\n",
    "arr6 = np.linspace(3,9,4)\n",
    "print(arr5, arr6)"
   ]
  },
  {
   "cell_type": "code",
   "execution_count": 98,
   "id": "10863d07-3a51-4b36-b454-7ecdcd248f85",
   "metadata": {},
   "outputs": [
    {
     "name": "stdout",
     "output_type": "stream",
     "text": [
      "[[0.01080092 0.84846201 0.24316678 0.68002726]\n",
      " [0.67713974 0.88582741 0.15356567 0.94669413]] [[13 15 12]\n",
      " [18 19 17]\n",
      " [13 10 14]] [[0.01080092 0.84846201 0.24316678 0.68002726 0.67713974 0.88582741\n",
      "  0.15356567 0.94669413]]\n"
     ]
    }
   ],
   "source": [
    "#4\n",
    "arr7 = np.random.rand(2,4)\n",
    "arr8 = np.random.randint(10,20, (3,3))\n",
    "arr9 = np.reshape(arr7, (1,8))\n",
    "print(arr7, arr8, arr9)\n",
    "#We can only reshape an array if the new shape members count is equal to the old shapes count"
   ]
  },
  {
   "cell_type": "code",
   "execution_count": 99,
   "id": "52341a6e-0b12-4b0f-9120-c97310af7d18",
   "metadata": {},
   "outputs": [],
   "source": [
    "#5\n",
    "#When you use a fixed seed, you get fixed random numbers, which is good for keeping the same numbers and still randomized \n",
    "#For example, an encryption key like I used in my project was randomaly generated, but now its saved."
   ]
  },
  {
   "cell_type": "code",
   "execution_count": 115,
   "id": "cb60ecc8-de98-447c-92d7-c7a54c851b56",
   "metadata": {},
   "outputs": [
    {
     "name": "stdin",
     "output_type": "stream",
     "text": [
      "Enter a number!  4\n",
      "Enter a number!  6\n",
      "Enter a number!  9\n",
      "Enter a number!  1\n",
      "Enter a number!  5\n"
     ]
    },
    {
     "name": "stdout",
     "output_type": "stream",
     "text": [
      "9 1 (5,) 2 3\n"
     ]
    }
   ],
   "source": [
    "#6\n",
    "lst1 = []\n",
    "for i in range(5):\n",
    "    lst1.append(int(input('Enter a number! ')))\n",
    "arr10 = np.array(lst1)  \n",
    "print(arr10.max(),arr10.min(),arr10.shape,arr10.argmax(),arr10.argmin())\n",
    "    \n"
   ]
  }
 ],
 "metadata": {
  "kernelspec": {
   "display_name": "Python 3 (ipykernel)",
   "language": "python",
   "name": "python3"
  },
  "language_info": {
   "codemirror_mode": {
    "name": "ipython",
    "version": 3
   },
   "file_extension": ".py",
   "mimetype": "text/x-python",
   "name": "python",
   "nbconvert_exporter": "python",
   "pygments_lexer": "ipython3",
   "version": "3.12.7"
  }
 },
 "nbformat": 4,
 "nbformat_minor": 5
}
